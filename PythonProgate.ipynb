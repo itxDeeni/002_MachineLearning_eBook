{
  "nbformat": 4,
  "nbformat_minor": 0,
  "metadata": {
    "colab": {
      "name": "PythonProgate.ipynb",
      "provenance": [],
      "authorship_tag": "ABX9TyNElHs9kpPO6LSWvLipkwAC",
      "include_colab_link": true
    },
    "kernelspec": {
      "name": "python3",
      "display_name": "Python 3"
    }
  },
  "cells": [
    {
      "cell_type": "markdown",
      "metadata": {
        "id": "view-in-github",
        "colab_type": "text"
      },
      "source": [
        "<a href=\"https://colab.research.google.com/github/itxDeeni/002_MachineLearning_eBook/blob/master/PythonProgate.ipynb\" target=\"_parent\"><img src=\"https://colab.research.google.com/assets/colab-badge.svg\" alt=\"Open In Colab\"/></a>"
      ]
    },
    {
      "cell_type": "code",
      "metadata": {
        "id": "yzD6FbLtr8Yk",
        "colab_type": "code",
        "colab": {
          "base_uri": "https://localhost:8080/",
          "height": 54
        },
        "outputId": "0f0f67f6-af8b-4028-ade2-7b95a412e98e"
      },
      "source": [
        "import numpy as np\n",
        "class continent():\n",
        "    name = input(\"Please enter NA for Norht America, SA for south america, EU for europe, AS for Asia , AF for Africa or press DONE when you are through \")\n",
        "\n",
        "\n",
        "n_america = {\n",
        "    'countries' : ['USA', 'Canada', 'mexico'],\n",
        "    'total_cases' : [1746311, 87519, 78023],\n",
        "    'active cases' : [1153939, 34590, 15043],\n",
        "    'discharged'   : [490256, 46164, 54383],\n",
        "    'death' : [102116, 6765, 8597] \n",
        "}\n",
        "europe = {\n",
        "    'countries' : ['Russia', 'Spain', 'Italy'],\n",
        "    'total_cases' : [379051, 283849, 231139],\n",
        "    'active cases' : [223916, 59773,50996 ],\n",
        "    'discharged'  : [150993, 196958, 147101],\n",
        "    'death' : [4142, 27118, 33072] \n",
        "}\n",
        "s_ameria = {\n",
        "    'countries' : ['Brazil', 'Peru', 'Chile'],\n",
        "    'total_cases' : [414661, 134905,82289 ],\n",
        "    'active cases' : [222317, 75753, 47908],\n",
        "    'discharged'   : [166647, 56169, 33540],\n",
        "    'death' : [25697, 3983,841] \n",
        "}\n",
        "asia = {\n",
        "    'countries' : ['China', 'India', 'Japan'],\n",
        "    'total_cases' : [82995, 159054, 16651],\n",
        "    'active cases' : [73,86584 , 1829],\n",
        "    'discharged'   : [78288, 67929, 13973],\n",
        "    'death' : [4634, 4541, 858] \n",
        "}\n",
        "africa = {\n",
        "    'countries' : ['Nigeria', 'Egypt', 'Ghana'],\n",
        "    'total_cases' : [8733 , 19666, 7303],\n",
        "    'active cases' : [5978, 13645, 4857],\n",
        "    'discharged'   : [2501, 5205, 2412],\n",
        "    'death' : [254, 816, 34] \n",
        "}\n"
      ],
      "execution_count": 2,
      "outputs": [
        {
          "output_type": "stream",
          "text": [
            "Please enter NA for Norht America, SA for south america, EU for europe, AS for Asia , AF for Africa or press DONE when you are through DONE\n"
          ],
          "name": "stdout"
        }
      ]
    }
  ]
}